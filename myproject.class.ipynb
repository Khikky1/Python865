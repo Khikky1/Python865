{
 "cells": [
  {
   "cell_type": "code",
   "execution_count": 10,
   "metadata": {},
   "outputs": [
    {
     "name": "stdout",
     "output_type": "stream",
     "text": [
      "rock, paper or scissors?paper\n",
      "computer: scissors\n",
      "player: paper\n",
      "You lose!\n",
      "play again? (yes/no):no\n",
      "End!\n"
     ]
    }
   ],
   "source": [
    "import random\n",
    "\n",
    "while True:\n",
    "    choices = ['rock', 'paper', 'scissors']\n",
    "    computer = random.choice(choices)\n",
    "    player = None\n",
    "    \n",
    "    while player not in choices:\n",
    "        player = input('rock, paper or scissors?')\n",
    "        if player == computer:\n",
    "            print('computer:', computer)\n",
    "            print('player:', player)\n",
    "            print('Tie!')\n",
    "            \n",
    "        elif player == 'rock':\n",
    "            if computer == 'paper':\n",
    "                print('computer:', computer)\n",
    "                print('player:', player)\n",
    "                print('You lose!')\n",
    "            if computer == 'scissors':\n",
    "                print('computer:', computer)\n",
    "                print('player:', player)\n",
    "                print('You win!')\n",
    "                    \n",
    "        elif player == 'scissors':\n",
    "            if computer == 'rock':\n",
    "                print('computer:', computer)\n",
    "                print('player:', player)\n",
    "                print('You lose!')\n",
    "            if computer == 'paper':\n",
    "                print('computer:', computer)\n",
    "                print('player:', player)\n",
    "                print('You win!')\n",
    "                \n",
    "        elif player == 'paper':\n",
    "            if computer == 'scissors':\n",
    "                print('computer:', computer)\n",
    "                print('player:', player)\n",
    "                print('You lose!')\n",
    "            if computer == 'rock':\n",
    "                print('computer:', computer)\n",
    "                print('player:', player)\n",
    "                print('You win!')\n",
    "                \n",
    "    play_again = input('play again? (yes/no):')\n",
    "        \n",
    "    if play_again != 'yes':\n",
    "        break\n",
    "print('End!')"
   ]
  },
  {
   "cell_type": "code",
   "execution_count": null,
   "metadata": {},
   "outputs": [],
   "source": []
  }
 ],
 "metadata": {
  "kernelspec": {
   "display_name": "Python 3",
   "language": "python",
   "name": "python3"
  },
  "language_info": {
   "codemirror_mode": {
    "name": "ipython",
    "version": 3
   },
   "file_extension": ".py",
   "mimetype": "text/x-python",
   "name": "python",
   "nbconvert_exporter": "python",
   "pygments_lexer": "ipython3",
   "version": "3.8.5"
  }
 },
 "nbformat": 4,
 "nbformat_minor": 4
}
